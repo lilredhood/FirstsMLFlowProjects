{
 "cells": [
  {
   "cell_type": "code",
   "execution_count": 1,
   "metadata": {},
   "outputs": [],
   "source": [
    "## MLFlow Tracking Server\n",
    "import mlflow"
   ]
  },
  {
   "cell_type": "code",
   "execution_count": 2,
   "metadata": {},
   "outputs": [],
   "source": [
    "mlflow.set_registry_uri(\"https://127.0.0.1:5000\") # Mettre l'adresse du serveur, 5000 le port\n"
   ]
  },
  {
   "cell_type": "code",
   "execution_count": null,
   "metadata": {},
   "outputs": [],
   "source": [
    "mlflow.set_experiment(\"Check LocalHost connection\") # On crée une expérience\n",
    "\n",
    "# On crée des métriques\n",
    "with mlflow.start_run() : \n",
    "    mlflow.log_metric(\"Test\", 1)\n",
    "    mlflow.log_metric(\"Colin\", 2)"
   ]
  },
  {
   "cell_type": "code",
   "execution_count": 5,
   "metadata": {},
   "outputs": [],
   "source": [
    "# On crée des métriques\n",
    "with mlflow.start_run() : \n",
    "    mlflow.log_metric(\"Test2\", 1)\n",
    "    mlflow.log_metric(\"Colin2\", 2)"
   ]
  },
  {
   "cell_type": "code",
   "execution_count": 6,
   "metadata": {},
   "outputs": [],
   "source": [
    "# On crée des métriques\n",
    "with mlflow.start_run() : \n",
    "    mlflow.log_metric(\"Test3\", 1)\n",
    "    mlflow.log_metric(\"Colin3\", 2)"
   ]
  }
 ],
 "metadata": {
  "kernelspec": {
   "display_name": "test",
   "language": "python",
   "name": "python3"
  },
  "language_info": {
   "codemirror_mode": {
    "name": "ipython",
    "version": 3
   },
   "file_extension": ".py",
   "mimetype": "text/x-python",
   "name": "python",
   "nbconvert_exporter": "python",
   "pygments_lexer": "ipython3",
   "version": "3.9.21"
  }
 },
 "nbformat": 4,
 "nbformat_minor": 2
}
